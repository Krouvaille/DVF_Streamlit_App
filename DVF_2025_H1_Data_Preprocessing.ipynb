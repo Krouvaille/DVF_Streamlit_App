{
 "cells": [
  {
   "cell_type": "markdown",
   "id": "f300bf3e",
   "metadata": {},
   "source": [
    "# Data preprocessing for dataset \"Demandes de valeurs foncières\""
   ]
  },
  {
   "cell_type": "markdown",
   "id": "5a7a8146",
   "metadata": {},
   "source": [
    "## Import the original data"
   ]
  },
  {
   "cell_type": "code",
   "execution_count": 1,
   "id": "c3a80555",
   "metadata": {},
   "outputs": [
    {
     "data": {
      "text/plain": [
       "(1387077, 43)"
      ]
     },
     "execution_count": 1,
     "metadata": {},
     "output_type": "execute_result"
    }
   ],
   "source": [
    "import pandas as pd\n",
    "import numpy as np\n",
    "\n",
    "df = pd.read_csv(\"ValeursFoncieres-2025-S1.txt\", sep=\"|\", decimal=',', low_memory=False)\n",
    "df.shape"
   ]
  },
  {
   "cell_type": "markdown",
   "id": "ffd999ef",
   "metadata": {},
   "source": [
    "## Feature selection"
   ]
  },
  {
   "cell_type": "code",
   "execution_count": 2,
   "id": "363c1cd0",
   "metadata": {},
   "outputs": [
    {
     "name": "stdout",
     "output_type": "stream",
     "text": [
      "<class 'pandas.core.frame.DataFrame'>\n",
      "RangeIndex: 1387077 entries, 0 to 1387076\n",
      "Data columns (total 43 columns):\n",
      " #   Column                      Non-Null Count    Dtype  \n",
      "---  ------                      --------------    -----  \n",
      " 0   Identifiant de document     0 non-null        float64\n",
      " 1   Reference document          0 non-null        float64\n",
      " 2   1 Articles CGI              0 non-null        float64\n",
      " 3   2 Articles CGI              0 non-null        float64\n",
      " 4   3 Articles CGI              0 non-null        float64\n",
      " 5   4 Articles CGI              0 non-null        float64\n",
      " 6   5 Articles CGI              0 non-null        float64\n",
      " 7   No disposition              1387077 non-null  int64  \n",
      " 8   Date mutation               1387077 non-null  object \n",
      " 9   Nature mutation             1387077 non-null  object \n",
      " 10  Valeur fonciere             1373082 non-null  float64\n",
      " 11  No voie                     873098 non-null   float64\n",
      " 12  B/T/Q                       64520 non-null    object \n",
      " 13  Type de voie                844845 non-null   object \n",
      " 14  Code voie                   1374919 non-null  object \n",
      " 15  Voie                        1374906 non-null  object \n",
      " 16  Code postal                 1374846 non-null  float64\n",
      " 17  Commune                     1387077 non-null  object \n",
      " 18  Code departement            1387077 non-null  object \n",
      " 19  Code commune                1387077 non-null  int64  \n",
      " 20  Prefixe de section          70497 non-null    float64\n",
      " 21  Section                     1387021 non-null  object \n",
      " 22  No plan                     1387077 non-null  int64  \n",
      " 23  No Volume                   3063 non-null     object \n",
      " 24  1er lot                     442084 non-null   object \n",
      " 25  Surface Carrez du 1er lot   135433 non-null   float64\n",
      " 26  2eme lot                    138161 non-null   object \n",
      " 27  Surface Carrez du 2eme lot  44564 non-null    float64\n",
      " 28  3eme lot                    25889 non-null    object \n",
      " 29  Surface Carrez du 3eme lot  5239 non-null     float64\n",
      " 30  4eme lot                    10082 non-null    float64\n",
      " 31  Surface Carrez du 4eme lot  1712 non-null     float64\n",
      " 32  5eme lot                    6050 non-null     float64\n",
      " 33  Surface Carrez du 5eme lot  760 non-null      float64\n",
      " 34  Nombre de lots              1387077 non-null  int64  \n",
      " 35  Code type local             814739 non-null   float64\n",
      " 36  Type local                  814739 non-null   object \n",
      " 37  Identifiant local           0 non-null        float64\n",
      " 38  Surface reelle bati         813890 non-null   float64\n",
      " 39  Nombre pieces principales   813890 non-null   float64\n",
      " 40  Nature culture              939453 non-null   object \n",
      " 41  Nature culture speciale     61544 non-null    object \n",
      " 42  Surface terrain             939453 non-null   float64\n",
      "dtypes: float64(23), int64(4), object(16)\n",
      "memory usage: 455.1+ MB\n"
     ]
    }
   ],
   "source": [
    "df.info()"
   ]
  },
  {
   "cell_type": "code",
   "execution_count": 3,
   "id": "f66ab61a",
   "metadata": {},
   "outputs": [],
   "source": [
    "metadata_cols = [\n",
    "    \"Identifiant de document\",\n",
    "    \"Reference document\",\n",
    "    \"1 Articles CGI\",\n",
    "    \"2 Articles CGI\",\n",
    "    \"3 Articles CGI\",\n",
    "    \"4 Articles CGI\",\n",
    "    \"5 Articles CGI\",\n",
    "    \"No disposition\",\n",
    "    \"Date mutation\",\n",
    "    \"Nature mutation\",\n",
    "    \"Identifiant local\",\n",
    "]\n",
    "df = df.drop(columns=[c for c in metadata_cols if c in df.columns])"
   ]
  },
  {
   "cell_type": "code",
   "execution_count": 4,
   "id": "e0b8a3f3",
   "metadata": {},
   "outputs": [],
   "source": [
    "address_cols = [\"No voie\", \"B/T/Q\", \"Type de voie\", \"Code voie\", \"Voie\"]\n",
    "df = df.drop(columns=[c for c in address_cols if c in df.columns])"
   ]
  },
  {
   "cell_type": "code",
   "execution_count": 5,
   "id": "84deadf2",
   "metadata": {},
   "outputs": [],
   "source": [
    "cadastral_cols = [\"Prefixe de section\", \"Section\", \"No plan\", \"No Volume\"]\n",
    "df = df.drop(columns=[c for c in cadastral_cols if c in df.columns])"
   ]
  },
  {
   "cell_type": "code",
   "execution_count": 6,
   "id": "f58e320b",
   "metadata": {},
   "outputs": [],
   "source": [
    "lot_cols = [\n",
    "    \"1er lot\",\n",
    "    \"Surface Carrez du 1er lot\",\n",
    "    \"2eme lot\",\n",
    "    \"Surface Carrez du 2eme lot\",\n",
    "    \"3eme lot\",\n",
    "    \"Surface Carrez du 3eme lot\",\n",
    "    \"4eme lot\",\n",
    "    \"Surface Carrez du 4eme lot\",\n",
    "    \"5eme lot\",\n",
    "    \"Surface Carrez du 5eme lot\",\n",
    "    \"Nombre de lots\",\n",
    "]\n",
    "df = df.drop(columns=[c for c in lot_cols if c in df.columns])"
   ]
  },
  {
   "cell_type": "markdown",
   "id": "fd6579e3",
   "metadata": {},
   "source": [
    "## Missing values"
   ]
  },
  {
   "cell_type": "code",
   "execution_count": 7,
   "id": "799699b0",
   "metadata": {},
   "outputs": [
    {
     "name": "stdout",
     "output_type": "stream",
     "text": [
      "Valeur fonciere: 1.01% missing\n",
      "Dropped 13995 rows with missing Valeur fonciere, new shape: (1373082, 12)\n",
      "\n",
      "Surface reelle bati: 40.96% missing\n",
      "Dropped 562455 rows with missing Surface reelle bati, new shape: (810627, 12)\n",
      "\n",
      "Surface terrain: 48.68% missing\n",
      "Dropped 394604 rows with missing Surface terrain, new shape: (416023, 12)\n",
      "\n",
      "Nombre pieces principales: 0.00% missing\n",
      "Dropped 0 rows with missing Nombre pieces principales, new shape: (416023, 12)\n",
      "\n"
     ]
    }
   ],
   "source": [
    "for c in ['Valeur fonciere', 'Surface reelle bati', 'Surface terrain', 'Nombre pieces principales']:\n",
    "    missing_count = df[c].isna().sum()\n",
    "    print(f\"{c}: {missing_count / df.shape[0]:.2%} missing\")\n",
    "    df = df.dropna(subset=[c], how='any')\n",
    "    print(f\"Dropped {missing_count} rows with missing {c}, new shape: {df.shape}\", end='\\n\\n')"
   ]
  },
  {
   "cell_type": "code",
   "execution_count": 8,
   "id": "50d03b66",
   "metadata": {},
   "outputs": [
    {
     "data": {
      "application/vnd.microsoft.datawrangler.viewer.v0+json": {
       "columns": [
        {
         "name": "index",
         "rawType": "object",
         "type": "string"
        },
        {
         "name": "0",
         "rawType": "float64",
         "type": "float"
        }
       ],
<<<<<<< HEAD
       "ref": "d89fd01b-3a77-4929-9eca-a0a9b160ae3e",
=======
       "ref": "05ea4f3a-6b99-408a-800d-889148b00797",
>>>>>>> e5415e379797e545f0419c6ffdad9eac2faf19cf
       "rows": [
        [
         "Nature culture speciale",
         "403043.0"
        ],
        [
         "Code postal",
         "48.0"
        ]
       ],
       "shape": {
        "columns": 1,
        "rows": 2
       }
      },
      "text/plain": [
       "Nature culture speciale    403043.0\n",
       "Code postal                    48.0\n",
       "dtype: float64"
      ]
     },
     "execution_count": 8,
     "metadata": {},
     "output_type": "execute_result"
    }
   ],
   "source": [
    "df.isna().sum().where(lambda s: s > 0).dropna().sort_values(ascending=False)"
   ]
  },
  {
   "cell_type": "code",
   "execution_count": 9,
   "id": "9c882196",
   "metadata": {},
   "outputs": [],
   "source": [
    "df['Nature culture speciale'] = df['Nature culture speciale'].fillna('N/A')"
   ]
  },
  {
   "cell_type": "code",
   "execution_count": 10,
   "id": "1bcc334f",
   "metadata": {},
   "outputs": [],
   "source": [
    "df[\"Code postal\"] = df[\"Code postal\"].fillna(df['Code departement'].astype(str) + df['Code commune'].astype(str).str.zfill(3))"
   ]
  },
  {
   "cell_type": "code",
   "execution_count": 11,
   "id": "3c004ca3",
   "metadata": {},
   "outputs": [
    {
     "data": {
      "text/plain": [
       "np.int64(0)"
      ]
     },
     "execution_count": 11,
     "metadata": {},
     "output_type": "execute_result"
    }
   ],
   "source": [
    "df.isna().sum().sum()"
   ]
  },
  {
   "cell_type": "markdown",
   "id": "57fb2b3a",
   "metadata": {},
   "source": [
    "## Feature types"
   ]
  },
  {
   "cell_type": "code",
   "execution_count": 12,
   "id": "f1ceae76",
   "metadata": {},
   "outputs": [],
   "source": [
    "df = df.rename(\n",
    "    columns={\n",
    "        \"Valeur fonciere\": \"sale_value\",\n",
    "        \"Code postal\": \"postal_code\",\n",
    "        \"Commune\": \"commune_name\",\n",
    "        \"Code departement\": \"department_code\",\n",
    "        \"Code commune\": \"commune_code\",\n",
    "        \"Surface reelle bati\": \"built_area_sqm\",\n",
    "        \"Surface terrain\": \"land_area_sqm\",\n",
    "        \"Nombre pieces principales\": \"main_rooms_count\",\n",
    "        \"Code type local\": \"property_type_code\",\n",
    "        \"Type local\": \"property_type_label\",\n",
    "        \"Nature culture\": \"land_use\",\n",
    "        \"Nature culture speciale\": \"land_use_special\",\n",
    "    }\n",
    ")"
   ]
  },
  {
   "cell_type": "code",
   "execution_count": 13,
   "id": "1dbc4ad1",
   "metadata": {},
   "outputs": [
    {
     "data": {
      "application/vnd.microsoft.datawrangler.viewer.v0+json": {
       "columns": [
        {
         "name": "index",
         "rawType": "int64",
         "type": "integer"
        },
        {
         "name": "sale_value",
         "rawType": "float64",
         "type": "float"
        },
        {
         "name": "postal_code",
         "rawType": "object",
         "type": "unknown"
        },
        {
         "name": "commune_name",
         "rawType": "object",
         "type": "string"
        },
        {
         "name": "department_code",
         "rawType": "object",
         "type": "string"
        },
        {
         "name": "commune_code",
         "rawType": "int64",
         "type": "integer"
        },
        {
         "name": "property_type_code",
         "rawType": "float64",
         "type": "float"
        },
        {
         "name": "property_type_label",
         "rawType": "object",
         "type": "string"
        },
        {
         "name": "built_area_sqm",
         "rawType": "float64",
         "type": "float"
        },
        {
         "name": "main_rooms_count",
         "rawType": "float64",
         "type": "float"
        },
        {
         "name": "land_use",
         "rawType": "object",
         "type": "string"
        },
        {
         "name": "land_use_special",
         "rawType": "object",
         "type": "string"
        },
        {
         "name": "land_area_sqm",
         "rawType": "float64",
         "type": "float"
        }
       ],
<<<<<<< HEAD
       "ref": "264dba12-7e47-46c7-87e2-46af09536faa",
=======
       "ref": "54bc0360-46e3-4b48-99be-17bc9b2ead00",
>>>>>>> e5415e379797e545f0419c6ffdad9eac2faf19cf
       "rows": [
        [
         "1",
         "468000.0",
         "1550.0",
         "FARGES",
         "01",
         "158",
         "1.0",
         "Maison",
         "111.0",
         "5.0",
         "S",
         "N/A",
         "133.0"
        ],
        [
         "2",
         "468000.0",
         "1550.0",
         "FARGES",
         "01",
         "158",
         "3.0",
         "Dépendance",
         "0.0",
         "0.0",
         "S",
         "N/A",
         "133.0"
        ],
        [
         "5",
         "180000.0",
         "1200.0",
         "MONTANGES",
         "01",
         "257",
         "2.0",
         "Appartement",
         "87.0",
         "4.0",
         "S",
         "N/A",
         "76.0"
        ],
        [
         "7",
         "490000.0",
         "1310.0",
         "BUELLAS",
         "01",
         "65",
         "3.0",
         "Dépendance",
         "0.0",
         "0.0",
         "S",
         "N/A",
         "500.0"
        ],
        [
         "8",
         "490000.0",
         "1310.0",
         "BUELLAS",
         "01",
         "65",
         "3.0",
         "Dépendance",
         "0.0",
         "0.0",
         "S",
         "N/A",
         "500.0"
        ]
       ],
       "shape": {
        "columns": 12,
        "rows": 5
       }
      },
      "text/html": [
       "<div>\n",
       "<style scoped>\n",
       "    .dataframe tbody tr th:only-of-type {\n",
       "        vertical-align: middle;\n",
       "    }\n",
       "\n",
       "    .dataframe tbody tr th {\n",
       "        vertical-align: top;\n",
       "    }\n",
       "\n",
       "    .dataframe thead th {\n",
       "        text-align: right;\n",
       "    }\n",
       "</style>\n",
       "<table border=\"1\" class=\"dataframe\">\n",
       "  <thead>\n",
       "    <tr style=\"text-align: right;\">\n",
       "      <th></th>\n",
       "      <th>sale_value</th>\n",
       "      <th>postal_code</th>\n",
       "      <th>commune_name</th>\n",
       "      <th>department_code</th>\n",
       "      <th>commune_code</th>\n",
       "      <th>property_type_code</th>\n",
       "      <th>property_type_label</th>\n",
       "      <th>built_area_sqm</th>\n",
       "      <th>main_rooms_count</th>\n",
       "      <th>land_use</th>\n",
       "      <th>land_use_special</th>\n",
       "      <th>land_area_sqm</th>\n",
       "    </tr>\n",
       "  </thead>\n",
       "  <tbody>\n",
       "    <tr>\n",
       "      <th>1</th>\n",
       "      <td>468000.0</td>\n",
       "      <td>1550.0</td>\n",
       "      <td>FARGES</td>\n",
       "      <td>01</td>\n",
       "      <td>158</td>\n",
       "      <td>1.0</td>\n",
       "      <td>Maison</td>\n",
       "      <td>111.0</td>\n",
       "      <td>5.0</td>\n",
       "      <td>S</td>\n",
       "      <td>N/A</td>\n",
       "      <td>133.0</td>\n",
       "    </tr>\n",
       "    <tr>\n",
       "      <th>2</th>\n",
       "      <td>468000.0</td>\n",
       "      <td>1550.0</td>\n",
       "      <td>FARGES</td>\n",
       "      <td>01</td>\n",
       "      <td>158</td>\n",
       "      <td>3.0</td>\n",
       "      <td>Dépendance</td>\n",
       "      <td>0.0</td>\n",
       "      <td>0.0</td>\n",
       "      <td>S</td>\n",
       "      <td>N/A</td>\n",
       "      <td>133.0</td>\n",
       "    </tr>\n",
       "    <tr>\n",
       "      <th>5</th>\n",
       "      <td>180000.0</td>\n",
       "      <td>1200.0</td>\n",
       "      <td>MONTANGES</td>\n",
       "      <td>01</td>\n",
       "      <td>257</td>\n",
       "      <td>2.0</td>\n",
       "      <td>Appartement</td>\n",
       "      <td>87.0</td>\n",
       "      <td>4.0</td>\n",
       "      <td>S</td>\n",
       "      <td>N/A</td>\n",
       "      <td>76.0</td>\n",
       "    </tr>\n",
       "    <tr>\n",
       "      <th>7</th>\n",
       "      <td>490000.0</td>\n",
       "      <td>1310.0</td>\n",
       "      <td>BUELLAS</td>\n",
       "      <td>01</td>\n",
       "      <td>65</td>\n",
       "      <td>3.0</td>\n",
       "      <td>Dépendance</td>\n",
       "      <td>0.0</td>\n",
       "      <td>0.0</td>\n",
       "      <td>S</td>\n",
       "      <td>N/A</td>\n",
       "      <td>500.0</td>\n",
       "    </tr>\n",
       "    <tr>\n",
       "      <th>8</th>\n",
       "      <td>490000.0</td>\n",
       "      <td>1310.0</td>\n",
       "      <td>BUELLAS</td>\n",
       "      <td>01</td>\n",
       "      <td>65</td>\n",
       "      <td>3.0</td>\n",
       "      <td>Dépendance</td>\n",
       "      <td>0.0</td>\n",
       "      <td>0.0</td>\n",
       "      <td>S</td>\n",
       "      <td>N/A</td>\n",
       "      <td>500.0</td>\n",
       "    </tr>\n",
       "  </tbody>\n",
       "</table>\n",
       "</div>"
      ],
      "text/plain": [
       "   sale_value postal_code commune_name department_code  commune_code  \\\n",
       "1    468000.0      1550.0       FARGES              01           158   \n",
       "2    468000.0      1550.0       FARGES              01           158   \n",
       "5    180000.0      1200.0    MONTANGES              01           257   \n",
       "7    490000.0      1310.0      BUELLAS              01            65   \n",
       "8    490000.0      1310.0      BUELLAS              01            65   \n",
       "\n",
       "   property_type_code property_type_label  built_area_sqm  main_rooms_count  \\\n",
       "1                 1.0              Maison           111.0               5.0   \n",
       "2                 3.0          Dépendance             0.0               0.0   \n",
       "5                 2.0         Appartement            87.0               4.0   \n",
       "7                 3.0          Dépendance             0.0               0.0   \n",
       "8                 3.0          Dépendance             0.0               0.0   \n",
       "\n",
       "  land_use land_use_special  land_area_sqm  \n",
       "1        S              N/A          133.0  \n",
       "2        S              N/A          133.0  \n",
       "5        S              N/A           76.0  \n",
       "7        S              N/A          500.0  \n",
       "8        S              N/A          500.0  "
      ]
     },
     "execution_count": 13,
     "metadata": {},
     "output_type": "execute_result"
    }
   ],
   "source": [
    "df.head()"
   ]
  },
  {
   "cell_type": "code",
   "execution_count": 14,
   "id": "1216ad8f",
   "metadata": {},
   "outputs": [
    {
     "name": "stdout",
     "output_type": "stream",
     "text": [
      "<class 'pandas.core.frame.DataFrame'>\n",
      "Index: 416023 entries, 1 to 1386932\n",
      "Data columns (total 12 columns):\n",
      " #   Column               Non-Null Count   Dtype  \n",
      "---  ------               --------------   -----  \n",
      " 0   sale_value           416023 non-null  float64\n",
      " 1   postal_code          416023 non-null  object \n",
      " 2   commune_name         416023 non-null  object \n",
      " 3   department_code      416023 non-null  object \n",
      " 4   commune_code         416023 non-null  int64  \n",
      " 5   property_type_code   416023 non-null  float64\n",
      " 6   property_type_label  416023 non-null  object \n",
      " 7   built_area_sqm       416023 non-null  float64\n",
      " 8   main_rooms_count     416023 non-null  float64\n",
      " 9   land_use             416023 non-null  object \n",
      " 10  land_use_special     416023 non-null  object \n",
      " 11  land_area_sqm        416023 non-null  float64\n",
      "dtypes: float64(5), int64(1), object(6)\n",
      "memory usage: 41.3+ MB\n"
     ]
    }
   ],
   "source": [
    "df.info()"
   ]
  },
  {
   "cell_type": "code",
   "execution_count": 15,
   "id": "928052ac",
   "metadata": {},
   "outputs": [],
   "source": [
    "df[\"sale_value\"] = df[\"sale_value\"].astype(\"int64\")"
   ]
  },
  {
   "cell_type": "code",
   "execution_count": 16,
   "id": "403635fb",
   "metadata": {},
   "outputs": [],
   "source": [
    "df[\"postal_code\"] = df[\"postal_code\"].astype('int64').astype(\"string\").str.zfill(5)"
   ]
  },
  {
   "cell_type": "code",
   "execution_count": 17,
   "id": "fcb76da7",
   "metadata": {},
   "outputs": [],
   "source": [
    "df[\"commune_name\"] = df[\"commune_name\"].astype(\"string\")\n",
    "df[\"department_code\"] = df[\"department_code\"].astype(\"string\")\n",
    "df[\"commune_code\"] = df[\"commune_code\"].astype(\"string\").str.zfill(3)\n",
    "\n",
    "df[\"property_type_code\"] = df[\"property_type_code\"].astype('int').astype(\"category\")\n",
    "df[\"property_type_label\"] = df[\"property_type_label\"].astype(\"category\")\n",
    "\n",
    "df[\"land_use\"] = df[\"land_use\"].astype(\"category\")\n",
    "df[\"land_use_special\"] = df[\"land_use_special\"].astype(\"category\")\n",
    "\n",
    "df[\"main_rooms_count\"] = df[\"main_rooms_count\"].astype('int')"
   ]
  },
  {
   "cell_type": "code",
   "execution_count": 18,
   "id": "2ee599b9",
   "metadata": {},
   "outputs": [
    {
     "name": "stdout",
     "output_type": "stream",
     "text": [
      "<class 'pandas.core.frame.DataFrame'>\n",
      "Index: 416023 entries, 1 to 1386932\n",
      "Data columns (total 12 columns):\n",
      " #   Column               Non-Null Count   Dtype   \n",
      "---  ------               --------------   -----   \n",
      " 0   sale_value           416023 non-null  int64   \n",
      " 1   postal_code          416023 non-null  string  \n",
      " 2   commune_name         416023 non-null  string  \n",
      " 3   department_code      416023 non-null  string  \n",
      " 4   commune_code         416023 non-null  string  \n",
      " 5   property_type_code   416023 non-null  category\n",
      " 6   property_type_label  416023 non-null  category\n",
      " 7   built_area_sqm       416023 non-null  float64 \n",
      " 8   main_rooms_count     416023 non-null  int64   \n",
      " 9   land_use             416023 non-null  category\n",
      " 10  land_use_special     416023 non-null  category\n",
      " 11  land_area_sqm        416023 non-null  float64 \n",
      "dtypes: category(4), float64(2), int64(2), string(4)\n",
      "memory usage: 30.2 MB\n"
     ]
    }
   ],
   "source": [
    "df.info()"
   ]
  },
  {
   "cell_type": "markdown",
   "id": "506eff2c",
   "metadata": {},
   "source": [
    "## Feature engineering"
   ]
  },
  {
<<<<<<< HEAD
   "cell_type": "markdown",
   "id": "3fee0f22",
   "metadata": {},
   "source": [
    "### INSEE CODE"
   ]
  },
  {
=======
>>>>>>> e5415e379797e545f0419c6ffdad9eac2faf19cf
   "cell_type": "code",
   "execution_count": 19,
   "id": "270c3817",
   "metadata": {},
   "outputs": [],
   "source": [
    "df['insee_code'] = df['department_code'] + df['commune_code']"
   ]
  },
  {
   "cell_type": "code",
   "execution_count": 20,
   "id": "4fe99c54",
   "metadata": {},
   "outputs": [],
   "source": [
    "import requests\n",
    "\n",
    "\n",
    "url = \"https://raw.githubusercontent.com/gregoiredavid/france-geojson/refs/heads/master/departements-version-simplifiee.geojson\"\n",
    "response = requests.get(url)\n",
    "geojson_data = response.json()\n",
    "\n",
    "department_map = {\n",
    "    feature[\"properties\"][\"code\"]: feature[\"properties\"][\"nom\"]\n",
    "    for feature in geojson_data[\"features\"]\n",
    "}\n",
    "\n",
<<<<<<< HEAD
    "df[\"department_name\"] = df[\"department_code\"].map(department_map)\n",
    "df[\"department_name\"] = df[\"department_name\"].astype(\"string\")"
   ]
  },
  {
   "cell_type": "markdown",
   "id": "ea3755f9",
   "metadata": {},
   "source": [
    "### DEPARTMENT NAME"
=======
    "df[\"departement_name\"] = df[\"department_code\"].map(department_map)"
>>>>>>> e5415e379797e545f0419c6ffdad9eac2faf19cf
   ]
  },
  {
   "cell_type": "markdown",
   "id": "ae6fd4e7",
   "metadata": {},
   "source": [
    "The missing department_name refers to France's overseas territories (DOM-TOM). Since our research does not cover these regions, we drop these lines."
   ]
  },
  {
   "cell_type": "code",
   "execution_count": 21,
   "id": "a8aad5a6",
   "metadata": {},
   "outputs": [
    {
     "data": {
      "application/vnd.microsoft.datawrangler.viewer.v0+json": {
       "columns": [
        {
         "name": "index",
         "rawType": "int64",
         "type": "integer"
        },
        {
         "name": "sale_value",
         "rawType": "int64",
         "type": "integer"
        },
        {
         "name": "postal_code",
         "rawType": "string",
         "type": "string"
        },
        {
         "name": "commune_name",
         "rawType": "string",
         "type": "string"
        },
        {
         "name": "department_code",
         "rawType": "string",
         "type": "string"
        },
        {
         "name": "commune_code",
         "rawType": "string",
         "type": "string"
        },
        {
         "name": "property_type_code",
         "rawType": "category",
         "type": "unknown"
        },
        {
         "name": "property_type_label",
         "rawType": "category",
         "type": "unknown"
        },
        {
         "name": "built_area_sqm",
         "rawType": "float64",
         "type": "float"
        },
        {
         "name": "main_rooms_count",
         "rawType": "int64",
         "type": "integer"
        },
        {
         "name": "land_use",
         "rawType": "category",
         "type": "unknown"
        },
        {
         "name": "land_use_special",
         "rawType": "category",
         "type": "unknown"
        },
        {
         "name": "land_area_sqm",
         "rawType": "float64",
         "type": "float"
        },
        {
         "name": "insee_code",
         "rawType": "string",
         "type": "string"
        },
        {
<<<<<<< HEAD
         "name": "department_name",
         "rawType": "string",
         "type": "string"
        }
       ],
       "ref": "84d75e78-b5ec-4467-9f81-2ebc4784ab07",
=======
         "name": "departement_name",
         "rawType": "object",
         "type": "unknown"
        }
       ],
       "ref": "50a09755-5081-42df-ad73-3b7f5fde9caa",
>>>>>>> e5415e379797e545f0419c6ffdad9eac2faf19cf
       "rows": [
        [
         "1344631",
         "210000",
         "97160",
         "LE MOULE",
         "971",
         "017",
         "1",
         "Maison",
         "70.0",
         "4",
         "S",
         "N/A",
         "419.0",
         "971017",
         null
        ],
        [
         "1344636",
         "135000",
         "97117",
         "PORT LOUIS",
         "971",
         "022",
         "1",
         "Maison",
         "80.0",
         "4",
         "S",
         "N/A",
         "70.0",
         "971022",
         null
        ],
        [
         "1344639",
         "300000",
         "97118",
         "SAINT FRANCOIS",
         "971",
         "025",
         "1",
         "Maison",
         "41.0",
         "2",
         "S",
         "N/A",
         "186.0",
         "971025",
         null
        ],
        [
         "1344644",
         "331000",
         "97118",
         "SAINT FRANCOIS",
         "971",
         "025",
         "1",
         "Maison",
         "40.0",
         "1",
         "S",
         "N/A",
         "280.0",
         "971025",
         null
        ],
        [
         "1344645",
         "331000",
         "97118",
         "SAINT FRANCOIS",
         "971",
         "025",
         "1",
         "Maison",
         "201.0",
         "5",
         "S",
         "N/A",
         "280.0",
         "971025",
         null
        ],
        [
         "1344646",
         "331000",
         "97118",
         "SAINT FRANCOIS",
         "971",
         "025",
         "3",
         "Dépendance",
         "0.0",
         "0",
         "S",
         "N/A",
         "280.0",
         "971025",
         null
        ],
        [
         "1344659",
         "370000",
         "97130",
         "CAPESTERRE-BELLE-EAU",
         "971",
         "007",
         "1",
         "Maison",
         "97.0",
         "4",
         "S",
         "N/A",
         "997.0",
         "971007",
         null
        ],
        [
         "1344660",
         "507325",
         "97180",
         "SAINTE ANNE",
         "971",
         "028",
         "3",
         "Dépendance",
         "0.0",
         "0",
         "P",
         "N/A",
         "615.0",
         "971028",
         null
        ],
        [
         "1344661",
         "507325",
         "97180",
         "SAINTE ANNE",
         "971",
         "028",
         "1",
         "Maison",
         "76.0",
         "3",
         "P",
         "N/A",
         "615.0",
         "971028",
         null
        ],
        [
         "1344662",
         "450000",
         "97128",
         "GOYAVE",
         "971",
         "014",
         "1",
         "Maison",
         "138.0",
         "5",
         "AB",
         "N/A",
         "1538.0",
         "971014",
         null
        ],
        [
         "1344663",
         "65000",
         "97170",
         "PETIT BOURG",
         "971",
         "018",
         "1",
         "Maison",
         "83.0",
         "5",
         "S",
         "N/A",
         "1104.0",
         "971018",
         null
        ],
        [
         "1344675",
         "560000",
         "97123",
         "BAILLIF",
         "971",
         "004",
         "3",
         "Dépendance",
         "0.0",
         "0",
         "S",
         "N/A",
         "1102.0",
         "971004",
         null
        ],
        [
         "1344676",
         "560000",
         "97123",
         "BAILLIF",
         "971",
         "004",
         "1",
         "Maison",
         "170.0",
         "2",
         "S",
         "N/A",
         "1102.0",
         "971004",
         null
        ],
        [
         "1344677",
         "177500",
         "97180",
         "SAINTE ANNE",
         "971",
         "028",
         "1",
         "Maison",
         "78.0",
         "3",
         "S",
         "N/A",
         "410.0",
         "971028",
         null
        ],
        [
         "1344678",
         "185000",
         "97134",
         "SAINT LOUIS",
         "971",
         "026",
         "1",
         "Maison",
         "26.0",
         "2",
         "L",
         "N/A",
         "1367.0",
         "971026",
         null
        ],
        [
         "1344679",
         "185000",
         "97134",
         "SAINT LOUIS",
         "971",
         "026",
         "1",
         "Maison",
         "26.0",
         "2",
         "S",
         "N/A",
         "12.0",
         "971026",
         null
        ],
        [
         "1344682",
         "482300",
         "97112",
         "GRAND BOURG",
         "971",
         "012",
         "1",
         "Maison",
         "116.0",
         "6",
         "S",
         "N/A",
         "1132.0",
         "971012",
         null
        ],
        [
         "1344683",
         "755720",
         "97116",
         "POINTE NOIRE",
         "971",
         "021",
         "1",
         "Maison",
         "181.0",
         "4",
         "AB",
         "N/A",
         "1996.0",
         "971021",
         null
        ],
        [
         "1344684",
         "755720",
         "97116",
         "POINTE NOIRE",
         "971",
         "021",
         "4",
         "Local industriel. commercial ou assimilé",
         "300.0",
         "0",
         "AB",
         "N/A",
         "1996.0",
         "971021",
         null
        ],
        [
         "1344685",
         "330000",
         "97190",
         "LE GOSIER",
         "971",
         "013",
         "1",
         "Maison",
         "60.0",
         "3",
         "AB",
         "N/A",
         "810.0",
         "971013",
         null
        ],
        [
         "1344688",
         "614250",
         "97118",
         "SAINT FRANCOIS",
         "971",
         "025",
         "1",
         "Maison",
         "98.0",
         "1",
         "S",
         "N/A",
         "922.0",
         "971025",
         null
        ],
        [
         "1344690",
         "846541",
         "97114",
         "TROIS RIVIERES",
         "971",
         "032",
         "1",
         "Maison",
         "165.0",
         "4",
         "S",
         "N/A",
         "1000.0",
         "971032",
         null
        ],
        [
         "1344691",
         "846541",
         "97114",
         "TROIS RIVIERES",
         "971",
         "032",
         "3",
         "Dépendance",
         "0.0",
         "0",
         "S",
         "N/A",
         "1000.0",
         "971032",
         null
        ],
        [
         "1344693",
         "500000",
         "97190",
         "LE GOSIER",
         "971",
         "013",
         "1",
         "Maison",
         "86.0",
         "5",
         "S",
         "N/A",
         "365.0",
         "971013",
         null
        ],
        [
         "1344702",
         "40000",
         "97112",
         "GRAND BOURG",
         "971",
         "012",
         "1",
         "Maison",
         "66.0",
         "3",
         "AB",
         "N/A",
         "230.0",
         "971012",
         null
        ],
        [
         "1344703",
         "40000",
         "97112",
         "GRAND BOURG",
         "971",
         "012",
         "3",
         "Dépendance",
         "0.0",
         "0",
         "AB",
         "N/A",
         "230.0",
         "971012",
         null
        ],
        [
         "1344705",
         "170000",
         "97160",
         "LE MOULE",
         "971",
         "017",
         "1",
         "Maison",
         "78.0",
         "4",
         "AB",
         "N/A",
         "141.0",
         "971017",
         null
        ],
        [
         "1344718",
         "860000",
         "97118",
         "SAINT FRANCOIS",
         "971",
         "025",
         "1",
         "Maison",
         "132.0",
         "4",
         "S",
         "N/A",
         "900.0",
         "971025",
         null
        ],
        [
         "1344719",
         "860000",
         "97118",
         "SAINT FRANCOIS",
         "971",
         "025",
         "3",
         "Dépendance",
         "0.0",
         "0",
         "S",
         "N/A",
         "900.0",
         "971025",
         null
        ],
        [
         "1344721",
         "260000",
         "97115",
         "SAINTE ROSE",
         "971",
         "029",
         "1",
         "Maison",
         "93.0",
         "4",
         "S",
         "N/A",
         "564.0",
         "971029",
         null
        ],
        [
         "1344722",
         "260000",
         "97115",
         "SAINTE ROSE",
         "971",
         "029",
         "1",
         "Maison",
         "78.0",
         "3",
         "S",
         "N/A",
         "564.0",
         "971029",
         null
        ],
        [
         "1344736",
         "87570",
         "97160",
         "LE MOULE",
         "971",
         "017",
         "1",
         "Maison",
         "60.0",
         "3",
         "S",
         "N/A",
         "344.0",
         "971017",
         null
        ],
        [
         "1344737",
         "30002",
         "97111",
         "MORNE A L EAU",
         "971",
         "016",
         "1",
         "Maison",
         "63.0",
         "3",
         "AG",
         "N/A",
         "384.0",
         "971016",
         null
        ],
        [
         "1344738",
         "30002",
         "97111",
         "MORNE A L EAU",
         "971",
         "016",
         "1",
         "Maison",
         "63.0",
         "3",
         "S",
         "N/A",
         "600.0",
         "971016",
         null
        ],
        [
         "1344743",
         "2226",
         "97115",
         "SAINTE ROSE",
         "971",
         "029",
         "1",
         "Maison",
         "76.0",
         "4",
         "S",
         "N/A",
         "318.0",
         "971029",
         null
        ],
        [
         "1344744",
         "50960",
         "97115",
         "SAINTE ROSE",
         "971",
         "029",
         "1",
         "Maison",
         "64.0",
         "4",
         "S",
         "N/A",
         "485.0",
         "971029",
         null
        ],
        [
         "1344745",
         "46250",
         "97115",
         "SAINTE ROSE",
         "971",
         "029",
         "1",
         "Maison",
         "64.0",
         "4",
         "S",
         "N/A",
         "355.0",
         "971029",
         null
        ],
        [
         "1344751",
         "641280",
         "97160",
         "LE MOULE",
         "971",
         "017",
         "1",
         "Maison",
         "152.0",
         "5",
         "B",
         "N/A",
         "1110.0",
         "971017",
         null
        ],
        [
         "1344752",
         "641280",
         "97160",
         "LE MOULE",
         "971",
         "017",
         "3",
         "Dépendance",
         "0.0",
         "0",
         "B",
         "N/A",
         "1110.0",
         "971017",
         null
        ],
        [
         "1344754",
         "360000",
         "97110",
         "POINTE A PITRE",
         "971",
         "020",
         "4",
         "Local industriel. commercial ou assimilé",
         "270.0",
         "0",
         "S",
         "N/A",
         "243.0",
         "971020",
         null
        ],
        [
         "1344755",
         "360000",
         "97110",
         "POINTE A PITRE",
         "971",
         "020",
         "4",
         "Local industriel. commercial ou assimilé",
         "50.0",
         "0",
         "S",
         "N/A",
         "243.0",
         "971020",
         null
        ],
        [
         "1344756",
         "360000",
         "97110",
         "POINTE A PITRE",
         "971",
         "020",
         "4",
         "Local industriel. commercial ou assimilé",
         "76.0",
         "0",
         "S",
         "N/A",
         "243.0",
         "971020",
         null
        ],
        [
         "1344758",
         "175993",
         "97118",
         "SAINT FRANCOIS",
         "971",
         "025",
         "1",
         "Maison",
         "80.0",
         "3",
         "S",
         "N/A",
         "429.0",
         "971025",
         null
        ],
        [
         "1344759",
         "175993",
         "97118",
         "SAINT FRANCOIS",
         "971",
         "025",
         "1",
         "Maison",
         "130.0",
         "4",
         "S",
         "N/A",
         "429.0",
         "971025",
         null
        ],
        [
         "1344772",
         "80000",
         "97122",
         "BAIE MAHAULT",
         "971",
         "003",
         "1",
         "Maison",
         "57.0",
         "4",
         "S",
         "N/A",
         "113.0",
         "971003",
         null
        ],
        [
         "1344778",
         "205000",
         "97139",
         "LES ABYMES",
         "971",
         "001",
         "1",
         "Maison",
         "95.0",
         "4",
         "S",
         "N/A",
         "700.0",
         "971001",
         null
        ],
        [
         "1344780",
         "165000",
         "97112",
         "GRAND BOURG",
         "971",
         "012",
         "1",
         "Maison",
         "47.0",
         "4",
         "S",
         "N/A",
         "47.0",
         "971012",
         null
        ],
        [
         "1344785",
         "145000",
         "97129",
         "LAMENTIN",
         "971",
         "015",
         "1",
         "Maison",
         "70.0",
         "3",
         "S",
         "N/A",
         "360.0",
         "971015",
         null
        ],
        [
         "1344786",
         "7722",
         "97150",
         "SAINT MARTIN",
         "971",
         "027",
         "4",
         "Local industriel. commercial ou assimilé",
         "50.0",
         "0",
         "S",
         "N/A",
         "234.0",
         "971027",
         null
        ],
        [
         "1344791",
         "170000",
         "97139",
         "LES ABYMES",
         "971",
         "001",
         "1",
         "Maison",
         "80.0",
         "4",
         "S",
         "N/A",
         "208.0",
         "971001",
         null
        ]
       ],
       "shape": {
        "columns": 14,
        "rows": 4176
       }
      },
      "text/html": [
       "<div>\n",
       "<style scoped>\n",
       "    .dataframe tbody tr th:only-of-type {\n",
       "        vertical-align: middle;\n",
       "    }\n",
       "\n",
       "    .dataframe tbody tr th {\n",
       "        vertical-align: top;\n",
       "    }\n",
       "\n",
       "    .dataframe thead th {\n",
       "        text-align: right;\n",
       "    }\n",
       "</style>\n",
       "<table border=\"1\" class=\"dataframe\">\n",
       "  <thead>\n",
       "    <tr style=\"text-align: right;\">\n",
       "      <th></th>\n",
       "      <th>sale_value</th>\n",
       "      <th>postal_code</th>\n",
       "      <th>commune_name</th>\n",
       "      <th>department_code</th>\n",
       "      <th>commune_code</th>\n",
       "      <th>property_type_code</th>\n",
       "      <th>property_type_label</th>\n",
       "      <th>built_area_sqm</th>\n",
       "      <th>main_rooms_count</th>\n",
       "      <th>land_use</th>\n",
       "      <th>land_use_special</th>\n",
       "      <th>land_area_sqm</th>\n",
       "      <th>insee_code</th>\n",
<<<<<<< HEAD
       "      <th>department_name</th>\n",
=======
       "      <th>departement_name</th>\n",
>>>>>>> e5415e379797e545f0419c6ffdad9eac2faf19cf
       "    </tr>\n",
       "  </thead>\n",
       "  <tbody>\n",
       "    <tr>\n",
       "      <th>1344631</th>\n",
       "      <td>210000</td>\n",
       "      <td>97160</td>\n",
       "      <td>LE MOULE</td>\n",
       "      <td>971</td>\n",
       "      <td>017</td>\n",
       "      <td>1</td>\n",
       "      <td>Maison</td>\n",
       "      <td>70.0</td>\n",
       "      <td>4</td>\n",
       "      <td>S</td>\n",
       "      <td>N/A</td>\n",
       "      <td>419.0</td>\n",
       "      <td>971017</td>\n",
<<<<<<< HEAD
       "      <td>&lt;NA&gt;</td>\n",
=======
       "      <td>NaN</td>\n",
>>>>>>> e5415e379797e545f0419c6ffdad9eac2faf19cf
       "    </tr>\n",
       "    <tr>\n",
       "      <th>1344636</th>\n",
       "      <td>135000</td>\n",
       "      <td>97117</td>\n",
       "      <td>PORT LOUIS</td>\n",
       "      <td>971</td>\n",
       "      <td>022</td>\n",
       "      <td>1</td>\n",
       "      <td>Maison</td>\n",
       "      <td>80.0</td>\n",
       "      <td>4</td>\n",
       "      <td>S</td>\n",
       "      <td>N/A</td>\n",
       "      <td>70.0</td>\n",
       "      <td>971022</td>\n",
<<<<<<< HEAD
       "      <td>&lt;NA&gt;</td>\n",
=======
       "      <td>NaN</td>\n",
>>>>>>> e5415e379797e545f0419c6ffdad9eac2faf19cf
       "    </tr>\n",
       "    <tr>\n",
       "      <th>1344639</th>\n",
       "      <td>300000</td>\n",
       "      <td>97118</td>\n",
       "      <td>SAINT FRANCOIS</td>\n",
       "      <td>971</td>\n",
       "      <td>025</td>\n",
       "      <td>1</td>\n",
       "      <td>Maison</td>\n",
       "      <td>41.0</td>\n",
       "      <td>2</td>\n",
       "      <td>S</td>\n",
       "      <td>N/A</td>\n",
       "      <td>186.0</td>\n",
       "      <td>971025</td>\n",
<<<<<<< HEAD
       "      <td>&lt;NA&gt;</td>\n",
=======
       "      <td>NaN</td>\n",
>>>>>>> e5415e379797e545f0419c6ffdad9eac2faf19cf
       "    </tr>\n",
       "    <tr>\n",
       "      <th>1344644</th>\n",
       "      <td>331000</td>\n",
       "      <td>97118</td>\n",
       "      <td>SAINT FRANCOIS</td>\n",
       "      <td>971</td>\n",
       "      <td>025</td>\n",
       "      <td>1</td>\n",
       "      <td>Maison</td>\n",
       "      <td>40.0</td>\n",
       "      <td>1</td>\n",
       "      <td>S</td>\n",
       "      <td>N/A</td>\n",
       "      <td>280.0</td>\n",
       "      <td>971025</td>\n",
<<<<<<< HEAD
       "      <td>&lt;NA&gt;</td>\n",
=======
       "      <td>NaN</td>\n",
>>>>>>> e5415e379797e545f0419c6ffdad9eac2faf19cf
       "    </tr>\n",
       "    <tr>\n",
       "      <th>1344645</th>\n",
       "      <td>331000</td>\n",
       "      <td>97118</td>\n",
       "      <td>SAINT FRANCOIS</td>\n",
       "      <td>971</td>\n",
       "      <td>025</td>\n",
       "      <td>1</td>\n",
       "      <td>Maison</td>\n",
       "      <td>201.0</td>\n",
       "      <td>5</td>\n",
       "      <td>S</td>\n",
       "      <td>N/A</td>\n",
       "      <td>280.0</td>\n",
       "      <td>971025</td>\n",
<<<<<<< HEAD
       "      <td>&lt;NA&gt;</td>\n",
=======
       "      <td>NaN</td>\n",
>>>>>>> e5415e379797e545f0419c6ffdad9eac2faf19cf
       "    </tr>\n",
       "    <tr>\n",
       "      <th>...</th>\n",
       "      <td>...</td>\n",
       "      <td>...</td>\n",
       "      <td>...</td>\n",
       "      <td>...</td>\n",
       "      <td>...</td>\n",
       "      <td>...</td>\n",
       "      <td>...</td>\n",
       "      <td>...</td>\n",
       "      <td>...</td>\n",
       "      <td>...</td>\n",
       "      <td>...</td>\n",
       "      <td>...</td>\n",
       "      <td>...</td>\n",
       "      <td>...</td>\n",
       "    </tr>\n",
       "    <tr>\n",
       "      <th>1355659</th>\n",
       "      <td>370000</td>\n",
       "      <td>97412</td>\n",
       "      <td>BRAS-PANON</td>\n",
       "      <td>974</td>\n",
       "      <td>002</td>\n",
       "      <td>1</td>\n",
       "      <td>Maison</td>\n",
       "      <td>113.0</td>\n",
       "      <td>3</td>\n",
       "      <td>S</td>\n",
       "      <td>N/A</td>\n",
       "      <td>1000.0</td>\n",
       "      <td>974002</td>\n",
<<<<<<< HEAD
       "      <td>&lt;NA&gt;</td>\n",
=======
       "      <td>NaN</td>\n",
>>>>>>> e5415e379797e545f0419c6ffdad9eac2faf19cf
       "    </tr>\n",
       "    <tr>\n",
       "      <th>1355660</th>\n",
       "      <td>370000</td>\n",
       "      <td>97412</td>\n",
       "      <td>BRAS-PANON</td>\n",
       "      <td>974</td>\n",
       "      <td>002</td>\n",
       "      <td>3</td>\n",
       "      <td>Dépendance</td>\n",
       "      <td>0.0</td>\n",
       "      <td>0</td>\n",
       "      <td>S</td>\n",
       "      <td>N/A</td>\n",
       "      <td>1000.0</td>\n",
       "      <td>974002</td>\n",
<<<<<<< HEAD
       "      <td>&lt;NA&gt;</td>\n",
=======
       "      <td>NaN</td>\n",
>>>>>>> e5415e379797e545f0419c6ffdad9eac2faf19cf
       "    </tr>\n",
       "    <tr>\n",
       "      <th>1355661</th>\n",
       "      <td>370000</td>\n",
       "      <td>97412</td>\n",
       "      <td>BRAS-PANON</td>\n",
       "      <td>974</td>\n",
       "      <td>002</td>\n",
       "      <td>1</td>\n",
       "      <td>Maison</td>\n",
       "      <td>81.0</td>\n",
       "      <td>3</td>\n",
       "      <td>S</td>\n",
       "      <td>N/A</td>\n",
       "      <td>1000.0</td>\n",
       "      <td>974002</td>\n",
<<<<<<< HEAD
       "      <td>&lt;NA&gt;</td>\n",
=======
       "      <td>NaN</td>\n",
>>>>>>> e5415e379797e545f0419c6ffdad9eac2faf19cf
       "    </tr>\n",
       "    <tr>\n",
       "      <th>1355662</th>\n",
       "      <td>255600</td>\n",
       "      <td>97441</td>\n",
       "      <td>SAINTE SUZANNE</td>\n",
       "      <td>974</td>\n",
       "      <td>020</td>\n",
       "      <td>3</td>\n",
       "      <td>Dépendance</td>\n",
       "      <td>0.0</td>\n",
       "      <td>0</td>\n",
       "      <td>S</td>\n",
       "      <td>N/A</td>\n",
       "      <td>280.0</td>\n",
       "      <td>974020</td>\n",
<<<<<<< HEAD
       "      <td>&lt;NA&gt;</td>\n",
=======
       "      <td>NaN</td>\n",
>>>>>>> e5415e379797e545f0419c6ffdad9eac2faf19cf
       "    </tr>\n",
       "    <tr>\n",
       "      <th>1355663</th>\n",
       "      <td>255600</td>\n",
       "      <td>97441</td>\n",
       "      <td>SAINTE SUZANNE</td>\n",
       "      <td>974</td>\n",
       "      <td>020</td>\n",
       "      <td>1</td>\n",
       "      <td>Maison</td>\n",
       "      <td>133.0</td>\n",
       "      <td>5</td>\n",
       "      <td>S</td>\n",
       "      <td>N/A</td>\n",
       "      <td>280.0</td>\n",
       "      <td>974020</td>\n",
<<<<<<< HEAD
       "      <td>&lt;NA&gt;</td>\n",
=======
       "      <td>NaN</td>\n",
>>>>>>> e5415e379797e545f0419c6ffdad9eac2faf19cf
       "    </tr>\n",
       "  </tbody>\n",
       "</table>\n",
       "<p>4176 rows × 14 columns</p>\n",
       "</div>"
      ],
      "text/plain": [
       "         sale_value postal_code    commune_name department_code commune_code  \\\n",
       "1344631      210000       97160        LE MOULE             971          017   \n",
       "1344636      135000       97117      PORT LOUIS             971          022   \n",
       "1344639      300000       97118  SAINT FRANCOIS             971          025   \n",
       "1344644      331000       97118  SAINT FRANCOIS             971          025   \n",
       "1344645      331000       97118  SAINT FRANCOIS             971          025   \n",
       "...             ...         ...             ...             ...          ...   \n",
       "1355659      370000       97412      BRAS-PANON             974          002   \n",
       "1355660      370000       97412      BRAS-PANON             974          002   \n",
       "1355661      370000       97412      BRAS-PANON             974          002   \n",
       "1355662      255600       97441  SAINTE SUZANNE             974          020   \n",
       "1355663      255600       97441  SAINTE SUZANNE             974          020   \n",
       "\n",
       "        property_type_code property_type_label  built_area_sqm  \\\n",
       "1344631                  1              Maison            70.0   \n",
       "1344636                  1              Maison            80.0   \n",
       "1344639                  1              Maison            41.0   \n",
       "1344644                  1              Maison            40.0   \n",
       "1344645                  1              Maison           201.0   \n",
       "...                    ...                 ...             ...   \n",
       "1355659                  1              Maison           113.0   \n",
       "1355660                  3          Dépendance             0.0   \n",
       "1355661                  1              Maison            81.0   \n",
       "1355662                  3          Dépendance             0.0   \n",
       "1355663                  1              Maison           133.0   \n",
       "\n",
       "         main_rooms_count land_use land_use_special  land_area_sqm insee_code  \\\n",
       "1344631                 4        S              N/A          419.0     971017   \n",
       "1344636                 4        S              N/A           70.0     971022   \n",
       "1344639                 2        S              N/A          186.0     971025   \n",
       "1344644                 1        S              N/A          280.0     971025   \n",
       "1344645                 5        S              N/A          280.0     971025   \n",
       "...                   ...      ...              ...            ...        ...   \n",
       "1355659                 3        S              N/A         1000.0     974002   \n",
       "1355660                 0        S              N/A         1000.0     974002   \n",
       "1355661                 3        S              N/A         1000.0     974002   \n",
       "1355662                 0        S              N/A          280.0     974020   \n",
       "1355663                 5        S              N/A          280.0     974020   \n",
       "\n",
<<<<<<< HEAD
       "        department_name  \n",
       "1344631            <NA>  \n",
       "1344636            <NA>  \n",
       "1344639            <NA>  \n",
       "1344644            <NA>  \n",
       "1344645            <NA>  \n",
       "...                 ...  \n",
       "1355659            <NA>  \n",
       "1355660            <NA>  \n",
       "1355661            <NA>  \n",
       "1355662            <NA>  \n",
       "1355663            <NA>  \n",
=======
       "        departement_name  \n",
       "1344631              NaN  \n",
       "1344636              NaN  \n",
       "1344639              NaN  \n",
       "1344644              NaN  \n",
       "1344645              NaN  \n",
       "...                  ...  \n",
       "1355659              NaN  \n",
       "1355660              NaN  \n",
       "1355661              NaN  \n",
       "1355662              NaN  \n",
       "1355663              NaN  \n",
>>>>>>> e5415e379797e545f0419c6ffdad9eac2faf19cf
       "\n",
       "[4176 rows x 14 columns]"
      ]
     },
     "execution_count": 21,
     "metadata": {},
     "output_type": "execute_result"
    }
   ],
   "source": [
<<<<<<< HEAD
    "df[df['department_name'].isna()]"
=======
    "df[df['departement_name'].isna()]"
>>>>>>> e5415e379797e545f0419c6ffdad9eac2faf19cf
   ]
  },
  {
   "cell_type": "code",
   "execution_count": 22,
<<<<<<< HEAD
   "id": "c5a60e97",
   "metadata": {},
   "outputs": [],
   "source": [
    "df = df.dropna(subset=['department_name'])"
   ]
  },
  {
   "cell_type": "markdown",
   "id": "3a34546b",
   "metadata": {},
   "source": [
    "### REGION NAME & CODE"
   ]
  },
  {
   "cell_type": "markdown",
   "id": "b7a077f7",
   "metadata": {},
   "source": [
    "We want to map the department codes to their respective regions, by using the INSEE COG : https://www.insee.fr/fr/information/7766585."
=======
   "id": "b72b1bda",
   "metadata": {},
   "outputs": [],
   "source": [
    "df = df.dropna(subset=[\"departement_name\"])"
>>>>>>> e5415e379797e545f0419c6ffdad9eac2faf19cf
   ]
  },
  {
   "cell_type": "code",
   "execution_count": 23,
<<<<<<< HEAD
   "id": "5dae6861",
   "metadata": {},
   "outputs": [],
   "source": [
    "department_region_mapping = pd.read_csv('https://www.insee.fr/fr/statistiques/fichier/7766585/v_departement_2024.csv', usecols=['DEP', 'REG'])\n",
    "department_region_mapping = department_region_mapping.set_index('DEP')['REG'].to_dict()"
   ]
  },
  {
   "cell_type": "code",
   "execution_count": 24,
   "id": "143ec730",
   "metadata": {},
   "outputs": [],
   "source": [
    "df['region_code'] = df['department_code'].map(department_region_mapping)\n",
    "df['region_code'] = df['region_code'].astype(\"string\")"
   ]
  },
  {
   "cell_type": "code",
   "execution_count": 25,
   "id": "5693e0fe",
   "metadata": {},
   "outputs": [],
   "source": [
    "region_mapping = pd.read_csv(\n",
    "    \"https://www.insee.fr/fr/statistiques/fichier/7766585/v_region_2024.csv\",\n",
    "    usecols=[\"REG\", \"LIBELLE\"],\n",
    ")\n",
    "region_mapping = region_mapping.set_index(\"REG\")[\"LIBELLE\"].to_dict()"
   ]
  },
  {
   "cell_type": "code",
   "execution_count": 26,
   "id": "bdd86eb8",
   "metadata": {},
   "outputs": [],
   "source": [
    "df['region_name'] = df['region_code'].astype('int').map(region_mapping)\n",
    "df['region_name'] = df['region_name'].astype(\"string\")"
   ]
  },
  {
   "cell_type": "markdown",
   "id": "666da5ba",
   "metadata": {},
   "source": [
    "### PRICE PER SQM BUILT & LAND"
   ]
  },
  {
   "cell_type": "code",
   "execution_count": 27,
=======
>>>>>>> e5415e379797e545f0419c6ffdad9eac2faf19cf
   "id": "9d4fb678",
   "metadata": {},
   "outputs": [],
   "source": [
    "df[\"price_per_sqm_built\"] = (\n",
    "    (df[\"sale_value\"] / df[\"built_area_sqm\"])\n",
    "    .where(df[\"built_area_sqm\"] > 0)\n",
    "    .round(2)\n",
    ")\n",
    "\n",
    "df[\"price_per_sqm_land\"] = (\n",
    "    (df[\"sale_value\"] / df[\"land_area_sqm\"]).where(df[\"land_area_sqm\"] > 0).round(2)\n",
    ")\n",
    "\n",
    "df['price_per_sqm_built'] = df['price_per_sqm_built'].astype('float')\n",
    "df['price_per_sqm_land'] = df['price_per_sqm_land'].astype('float')"
   ]
  },
  {
   "cell_type": "markdown",
   "id": "b817fd65",
   "metadata": {},
   "source": [
    "## Outliers"
   ]
  },
  {
   "cell_type": "code",
<<<<<<< HEAD
   "execution_count": 28,
=======
   "execution_count": 24,
>>>>>>> e5415e379797e545f0419c6ffdad9eac2faf19cf
   "id": "7487811b",
   "metadata": {},
   "outputs": [
    {
     "data": {
      "image/png": "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",
      "text/plain": [
       "<Figure size 1200x800 with 4 Axes>"
      ]
     },
     "metadata": {},
     "output_type": "display_data"
    }
   ],
   "source": [
    "from matplotlib import pyplot as plt\n",
    "import seaborn as sns\n",
    "\n",
    "fig, axs = plt.subplots(2, 2, figsize=(12, 8))\n",
    "sns.boxplot(data=df, y=\"sale_value\", ax=axs[0, 0], showfliers=True)\n",
    "sns.boxplot(data=df, y=\"built_area_sqm\", ax=axs[0, 1], showfliers=True)\n",
    "sns.boxplot(data=df, y=\"land_area_sqm\", ax=axs[1, 0], showfliers=True)\n",
    "sns.boxplot(data=df, y=\"main_rooms_count\", ax=axs[1, 1], showfliers=True)\n",
    "for i, t in enumerate([\"sale_value\", \"built_area_sqm\", \"land_area_sqm\", \"main_rooms_count\"]):\n",
    "    axs.flat[i].set_title(t)\n",
    "plt.tight_layout()\n",
    "plt.show()"
   ]
  },
  {
   "cell_type": "code",
<<<<<<< HEAD
   "execution_count": 29,
=======
   "execution_count": 25,
>>>>>>> e5415e379797e545f0419c6ffdad9eac2faf19cf
   "id": "083252b4",
   "metadata": {},
   "outputs": [
    {
     "name": "stdout",
     "output_type": "stream",
     "text": [
<<<<<<< HEAD
      "Before removing outliers: (411847, 18)\n",
      "After removing outliers: (350633, 18)\n"
=======
      "Before removing outliers: (411847, 16)\n",
      "After removing outliers: (350633, 16)\n"
>>>>>>> e5415e379797e545f0419c6ffdad9eac2faf19cf
     ]
    }
   ],
   "source": [
    "print('Before removing outliers:', df.shape)\n",
    "df = df[\n",
    "    (df[\"sale_value\"] < 1 * 10**6) & (df[\"built_area_sqm\"] < 250)\n",
    "    & (df[\"land_area_sqm\"] < 2000) & (df[\"main_rooms_count\"] < 10)\n",
    "]\n",
    "print('After removing outliers:', df.shape)"
   ]
  },
  {
   "cell_type": "code",
<<<<<<< HEAD
   "execution_count": 30,
=======
   "execution_count": 26,
>>>>>>> e5415e379797e545f0419c6ffdad9eac2faf19cf
   "id": "96089de1",
   "metadata": {},
   "outputs": [
    {
     "data": {
      "image/png": "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",
      "text/plain": [
       "<Figure size 1200x800 with 4 Axes>"
      ]
     },
     "metadata": {},
     "output_type": "display_data"
    }
   ],
   "source": [
    "fig, axs = plt.subplots(2, 2, figsize=(12, 8))\n",
    "sns.histplot(data=df, x=\"sale_value\", bins=30, ax=axs[0, 0])\n",
    "sns.histplot(data=df, x=\"built_area_sqm\", bins=30, ax=axs[0, 1])\n",
    "sns.histplot(data=df, x=\"land_area_sqm\", bins=30, ax=axs[1, 0])\n",
    "sns.histplot(data=df, x=\"main_rooms_count\", bins=30, ax=axs[1, 1])\n",
    "for i, t in enumerate([\"sale_value\", \"built_area_sqm\", \"land_area_sqm\", \"main_rooms_count\"]):\n",
    "    axs.flat[i].set_title(t)\n",
    "plt.tight_layout()\n",
    "plt.show()"
   ]
  },
  {
   "cell_type": "markdown",
   "id": "fbbb581e",
   "metadata": {},
   "source": [
    "## Export the cleaned dataset"
   ]
  },
  {
   "cell_type": "code",
<<<<<<< HEAD
   "execution_count": 31,
=======
   "execution_count": 27,
>>>>>>> e5415e379797e545f0419c6ffdad9eac2faf19cf
   "id": "ee362f43",
   "metadata": {},
   "outputs": [],
   "source": [
    "df.reset_index(drop=True, inplace=True)"
   ]
  },
  {
   "cell_type": "code",
<<<<<<< HEAD
   "execution_count": 32,
=======
   "execution_count": 28,
>>>>>>> e5415e379797e545f0419c6ffdad9eac2faf19cf
   "id": "a5d9a4ad",
   "metadata": {},
   "outputs": [],
   "source": [
    "df = df.reindex(\n",
    "    columns=[\n",
    "        \"sale_value\",\n",
    "        \"postal_code\",\n",
    "        \"insee_code\",\n",
<<<<<<< HEAD
    "        \"region_name\",\n",
    "        \"region_code\",\n",
    "        \"department_name\",\n",
=======
    "        \"departement_name\",\n",
>>>>>>> e5415e379797e545f0419c6ffdad9eac2faf19cf
    "        \"department_code\",\n",
    "        \"commune_name\",\n",
    "        \"commune_code\",\n",
    "        \"property_type_label\",\n",
    "        \"property_type_code\",\n",
    "        \"built_area_sqm\",\n",
    "        \"land_area_sqm\",\n",
    "        \"main_rooms_count\",\n",
    "        \"land_use\",\n",
    "        \"land_use_special\",\n",
    "        \"price_per_sqm_built\",\n",
    "        \"price_per_sqm_land\",\n",
    "    ]\n",
    ")"
   ]
  },
  {
   "cell_type": "code",
<<<<<<< HEAD
   "execution_count": 33,
=======
   "execution_count": 29,
>>>>>>> e5415e379797e545f0419c6ffdad9eac2faf19cf
   "id": "a5ac47c3",
   "metadata": {},
   "outputs": [],
   "source": [
    "df.to_csv(\"ValeursFoncieres-2025-S1-cleaned.csv\", index=False)"
   ]
  },
  {
   "cell_type": "code",
<<<<<<< HEAD
   "execution_count": 34,
=======
   "execution_count": 30,
>>>>>>> e5415e379797e545f0419c6ffdad9eac2faf19cf
   "id": "e831105c",
   "metadata": {},
   "outputs": [
    {
     "data": {
      "text/plain": [
       "{'sale_value': 'int64',\n",
       " 'postal_code': 'string',\n",
       " 'insee_code': 'string',\n",
<<<<<<< HEAD
       " 'region_name': 'string',\n",
       " 'region_code': 'string',\n",
       " 'department_name': 'string',\n",
=======
       " 'departement_name': 'object',\n",
>>>>>>> e5415e379797e545f0419c6ffdad9eac2faf19cf
       " 'department_code': 'string',\n",
       " 'commune_name': 'string',\n",
       " 'commune_code': 'string',\n",
       " 'property_type_label': 'category',\n",
       " 'property_type_code': 'category',\n",
       " 'built_area_sqm': 'float64',\n",
       " 'land_area_sqm': 'float64',\n",
       " 'main_rooms_count': 'int64',\n",
       " 'land_use': 'category',\n",
       " 'land_use_special': 'category',\n",
       " 'price_per_sqm_built': 'float64',\n",
       " 'price_per_sqm_land': 'float64'}"
      ]
     },
<<<<<<< HEAD
     "execution_count": 34,
=======
     "execution_count": 30,
>>>>>>> e5415e379797e545f0419c6ffdad9eac2faf19cf
     "metadata": {},
     "output_type": "execute_result"
    }
   ],
   "source": [
    "df.dtypes.astype(str).to_dict()"
   ]
  },
  {
   "cell_type": "markdown",
   "id": "269ab8b8",
   "metadata": {},
   "source": [
    "# EDA"
   ]
  },
  {
   "cell_type": "code",
<<<<<<< HEAD
   "execution_count": 35,
=======
   "execution_count": 31,
>>>>>>> e5415e379797e545f0419c6ffdad9eac2faf19cf
   "id": "95fc069c",
   "metadata": {},
   "outputs": [],
   "source": [
    "df = pd.read_csv(\n",
    "    \"ValeursFoncieres-2025-S1-cleaned.csv\",\n",
    "    dtype={\n",
    "        \"sale_value\": \"int64\",\n",
    "        \"postal_code\": \"string\",\n",
    "        \"insee_code\": \"string\",\n",
<<<<<<< HEAD
    "        \"region_name\": \"string\",\n",
    "        \"region_code\": \"string\",\n",
    "        \"departement_name\": \"string\",\n",
=======
    "        \"departement_name\": \"object\",\n",
>>>>>>> e5415e379797e545f0419c6ffdad9eac2faf19cf
    "        \"department_code\": \"string\",\n",
    "        \"commune_name\": \"string\",\n",
    "        \"commune_code\": \"string\",\n",
    "        \"property_type_label\": \"category\",\n",
    "        \"property_type_code\": \"category\",\n",
    "        \"built_area_sqm\": \"float64\",\n",
    "        \"land_area_sqm\": \"float64\",\n",
    "        \"main_rooms_count\": \"int64\",\n",
    "        \"land_use\": \"category\",\n",
    "        \"land_use_special\": \"category\",\n",
    "        \"price_per_sqm_built\": \"float64\",\n",
    "        \"price_per_sqm_land\": \"float64\",\n",
    "    },\n",
    ")"
   ]
  },
  {
   "cell_type": "code",
<<<<<<< HEAD
   "execution_count": 36,
=======
   "execution_count": 32,
>>>>>>> e5415e379797e545f0419c6ffdad9eac2faf19cf
   "id": "7744ce39",
   "metadata": {},
   "outputs": [
    {
     "data": {
      "application/vnd.microsoft.datawrangler.viewer.v0+json": {
       "columns": [
        {
         "name": "index",
         "rawType": "int64",
         "type": "integer"
        },
        {
         "name": "sale_value",
         "rawType": "int64",
         "type": "integer"
        },
        {
         "name": "postal_code",
         "rawType": "string",
         "type": "string"
        },
        {
         "name": "insee_code",
         "rawType": "string",
         "type": "string"
        },
        {
<<<<<<< HEAD
         "name": "region_name",
         "rawType": "string",
         "type": "string"
        },
        {
         "name": "region_code",
         "rawType": "string",
         "type": "string"
        },
        {
         "name": "department_name",
=======
         "name": "departement_name",
>>>>>>> e5415e379797e545f0419c6ffdad9eac2faf19cf
         "rawType": "object",
         "type": "string"
        },
        {
         "name": "department_code",
         "rawType": "string",
         "type": "string"
        },
        {
         "name": "commune_name",
         "rawType": "string",
         "type": "string"
        },
        {
         "name": "commune_code",
         "rawType": "string",
         "type": "string"
        },
        {
         "name": "property_type_label",
         "rawType": "category",
         "type": "unknown"
        },
        {
         "name": "property_type_code",
         "rawType": "category",
         "type": "unknown"
        },
        {
         "name": "built_area_sqm",
         "rawType": "float64",
         "type": "float"
        },
        {
         "name": "land_area_sqm",
         "rawType": "float64",
         "type": "float"
        },
        {
         "name": "main_rooms_count",
         "rawType": "int64",
         "type": "integer"
        },
        {
         "name": "land_use",
         "rawType": "category",
         "type": "unknown"
        },
        {
         "name": "land_use_special",
         "rawType": "category",
         "type": "unknown"
        },
        {
         "name": "price_per_sqm_built",
         "rawType": "float64",
         "type": "float"
        },
        {
         "name": "price_per_sqm_land",
         "rawType": "float64",
         "type": "float"
        }
       ],
<<<<<<< HEAD
       "ref": "302485dd-f4be-41e5-8855-0645e92699bb",
=======
       "ref": "9c30b33f-6b2d-4bd9-9f07-c590276b06e3",
>>>>>>> e5415e379797e545f0419c6ffdad9eac2faf19cf
       "rows": [
        [
         "0",
         "468000",
         "01550",
         "01158",
<<<<<<< HEAD
         "Auvergne-Rhône-Alpes",
         "84",
=======
>>>>>>> e5415e379797e545f0419c6ffdad9eac2faf19cf
         "Ain",
         "01",
         "FARGES",
         "158",
         "Maison",
         "1",
         "111.0",
         "133.0",
         "5",
         "S",
         null,
         "4216.22",
         "3518.8"
        ],
        [
         "1",
         "468000",
         "01550",
         "01158",
<<<<<<< HEAD
         "Auvergne-Rhône-Alpes",
         "84",
=======
>>>>>>> e5415e379797e545f0419c6ffdad9eac2faf19cf
         "Ain",
         "01",
         "FARGES",
         "158",
         "Dépendance",
         "3",
         "0.0",
         "133.0",
         "0",
         "S",
         null,
         null,
         "3518.8"
        ],
        [
         "2",
         "180000",
         "01200",
         "01257",
<<<<<<< HEAD
         "Auvergne-Rhône-Alpes",
         "84",
=======
>>>>>>> e5415e379797e545f0419c6ffdad9eac2faf19cf
         "Ain",
         "01",
         "MONTANGES",
         "257",
         "Appartement",
         "2",
         "87.0",
         "76.0",
         "4",
         "S",
         null,
         "2068.97",
         "2368.42"
        ],
        [
         "3",
         "490000",
         "01310",
         "01065",
<<<<<<< HEAD
         "Auvergne-Rhône-Alpes",
         "84",
=======
>>>>>>> e5415e379797e545f0419c6ffdad9eac2faf19cf
         "Ain",
         "01",
         "BUELLAS",
         "065",
         "Dépendance",
         "3",
         "0.0",
         "500.0",
         "0",
         "S",
         null,
         null,
         "980.0"
        ],
        [
         "4",
         "490000",
         "01310",
         "01065",
<<<<<<< HEAD
         "Auvergne-Rhône-Alpes",
         "84",
=======
>>>>>>> e5415e379797e545f0419c6ffdad9eac2faf19cf
         "Ain",
         "01",
         "BUELLAS",
         "065",
         "Dépendance",
         "3",
         "0.0",
         "500.0",
         "0",
         "S",
         null,
         null,
         "980.0"
        ]
       ],
       "shape": {
<<<<<<< HEAD
        "columns": 18,
=======
        "columns": 16,
>>>>>>> e5415e379797e545f0419c6ffdad9eac2faf19cf
        "rows": 5
       }
      },
      "text/html": [
       "<div>\n",
       "<style scoped>\n",
       "    .dataframe tbody tr th:only-of-type {\n",
       "        vertical-align: middle;\n",
       "    }\n",
       "\n",
       "    .dataframe tbody tr th {\n",
       "        vertical-align: top;\n",
       "    }\n",
       "\n",
       "    .dataframe thead th {\n",
       "        text-align: right;\n",
       "    }\n",
       "</style>\n",
       "<table border=\"1\" class=\"dataframe\">\n",
       "  <thead>\n",
       "    <tr style=\"text-align: right;\">\n",
       "      <th></th>\n",
       "      <th>sale_value</th>\n",
       "      <th>postal_code</th>\n",
       "      <th>insee_code</th>\n",
<<<<<<< HEAD
       "      <th>region_name</th>\n",
       "      <th>region_code</th>\n",
       "      <th>department_name</th>\n",
=======
       "      <th>departement_name</th>\n",
>>>>>>> e5415e379797e545f0419c6ffdad9eac2faf19cf
       "      <th>department_code</th>\n",
       "      <th>commune_name</th>\n",
       "      <th>commune_code</th>\n",
       "      <th>property_type_label</th>\n",
       "      <th>property_type_code</th>\n",
       "      <th>built_area_sqm</th>\n",
       "      <th>land_area_sqm</th>\n",
       "      <th>main_rooms_count</th>\n",
       "      <th>land_use</th>\n",
       "      <th>land_use_special</th>\n",
       "      <th>price_per_sqm_built</th>\n",
       "      <th>price_per_sqm_land</th>\n",
       "    </tr>\n",
       "  </thead>\n",
       "  <tbody>\n",
       "    <tr>\n",
       "      <th>0</th>\n",
       "      <td>468000</td>\n",
       "      <td>01550</td>\n",
       "      <td>01158</td>\n",
<<<<<<< HEAD
       "      <td>Auvergne-Rhône-Alpes</td>\n",
       "      <td>84</td>\n",
=======
>>>>>>> e5415e379797e545f0419c6ffdad9eac2faf19cf
       "      <td>Ain</td>\n",
       "      <td>01</td>\n",
       "      <td>FARGES</td>\n",
       "      <td>158</td>\n",
       "      <td>Maison</td>\n",
       "      <td>1</td>\n",
       "      <td>111.0</td>\n",
       "      <td>133.0</td>\n",
       "      <td>5</td>\n",
       "      <td>S</td>\n",
       "      <td>NaN</td>\n",
       "      <td>4216.22</td>\n",
       "      <td>3518.80</td>\n",
       "    </tr>\n",
       "    <tr>\n",
       "      <th>1</th>\n",
       "      <td>468000</td>\n",
       "      <td>01550</td>\n",
       "      <td>01158</td>\n",
<<<<<<< HEAD
       "      <td>Auvergne-Rhône-Alpes</td>\n",
       "      <td>84</td>\n",
=======
>>>>>>> e5415e379797e545f0419c6ffdad9eac2faf19cf
       "      <td>Ain</td>\n",
       "      <td>01</td>\n",
       "      <td>FARGES</td>\n",
       "      <td>158</td>\n",
       "      <td>Dépendance</td>\n",
       "      <td>3</td>\n",
       "      <td>0.0</td>\n",
       "      <td>133.0</td>\n",
       "      <td>0</td>\n",
       "      <td>S</td>\n",
       "      <td>NaN</td>\n",
       "      <td>NaN</td>\n",
       "      <td>3518.80</td>\n",
       "    </tr>\n",
       "    <tr>\n",
       "      <th>2</th>\n",
       "      <td>180000</td>\n",
       "      <td>01200</td>\n",
       "      <td>01257</td>\n",
<<<<<<< HEAD
       "      <td>Auvergne-Rhône-Alpes</td>\n",
       "      <td>84</td>\n",
=======
>>>>>>> e5415e379797e545f0419c6ffdad9eac2faf19cf
       "      <td>Ain</td>\n",
       "      <td>01</td>\n",
       "      <td>MONTANGES</td>\n",
       "      <td>257</td>\n",
       "      <td>Appartement</td>\n",
       "      <td>2</td>\n",
       "      <td>87.0</td>\n",
       "      <td>76.0</td>\n",
       "      <td>4</td>\n",
       "      <td>S</td>\n",
       "      <td>NaN</td>\n",
       "      <td>2068.97</td>\n",
       "      <td>2368.42</td>\n",
       "    </tr>\n",
       "    <tr>\n",
       "      <th>3</th>\n",
       "      <td>490000</td>\n",
       "      <td>01310</td>\n",
       "      <td>01065</td>\n",
<<<<<<< HEAD
       "      <td>Auvergne-Rhône-Alpes</td>\n",
       "      <td>84</td>\n",
=======
>>>>>>> e5415e379797e545f0419c6ffdad9eac2faf19cf
       "      <td>Ain</td>\n",
       "      <td>01</td>\n",
       "      <td>BUELLAS</td>\n",
       "      <td>065</td>\n",
       "      <td>Dépendance</td>\n",
       "      <td>3</td>\n",
       "      <td>0.0</td>\n",
       "      <td>500.0</td>\n",
       "      <td>0</td>\n",
       "      <td>S</td>\n",
       "      <td>NaN</td>\n",
       "      <td>NaN</td>\n",
       "      <td>980.00</td>\n",
       "    </tr>\n",
       "    <tr>\n",
       "      <th>4</th>\n",
       "      <td>490000</td>\n",
       "      <td>01310</td>\n",
       "      <td>01065</td>\n",
<<<<<<< HEAD
       "      <td>Auvergne-Rhône-Alpes</td>\n",
       "      <td>84</td>\n",
=======
>>>>>>> e5415e379797e545f0419c6ffdad9eac2faf19cf
       "      <td>Ain</td>\n",
       "      <td>01</td>\n",
       "      <td>BUELLAS</td>\n",
       "      <td>065</td>\n",
       "      <td>Dépendance</td>\n",
       "      <td>3</td>\n",
       "      <td>0.0</td>\n",
       "      <td>500.0</td>\n",
       "      <td>0</td>\n",
       "      <td>S</td>\n",
       "      <td>NaN</td>\n",
       "      <td>NaN</td>\n",
       "      <td>980.00</td>\n",
       "    </tr>\n",
       "  </tbody>\n",
       "</table>\n",
       "</div>"
      ],
      "text/plain": [
<<<<<<< HEAD
       "   sale_value postal_code insee_code           region_name region_code  \\\n",
       "0      468000       01550      01158  Auvergne-Rhône-Alpes          84   \n",
       "1      468000       01550      01158  Auvergne-Rhône-Alpes          84   \n",
       "2      180000       01200      01257  Auvergne-Rhône-Alpes          84   \n",
       "3      490000       01310      01065  Auvergne-Rhône-Alpes          84   \n",
       "4      490000       01310      01065  Auvergne-Rhône-Alpes          84   \n",
       "\n",
       "  department_name department_code commune_name commune_code  \\\n",
       "0             Ain              01       FARGES          158   \n",
       "1             Ain              01       FARGES          158   \n",
       "2             Ain              01    MONTANGES          257   \n",
       "3             Ain              01      BUELLAS          065   \n",
       "4             Ain              01      BUELLAS          065   \n",
       "\n",
       "  property_type_label property_type_code  built_area_sqm  land_area_sqm  \\\n",
       "0              Maison                  1           111.0          133.0   \n",
       "1          Dépendance                  3             0.0          133.0   \n",
       "2         Appartement                  2            87.0           76.0   \n",
       "3          Dépendance                  3             0.0          500.0   \n",
       "4          Dépendance                  3             0.0          500.0   \n",
       "\n",
       "   main_rooms_count land_use land_use_special  price_per_sqm_built  \\\n",
       "0                 5        S              NaN              4216.22   \n",
       "1                 0        S              NaN                  NaN   \n",
       "2                 4        S              NaN              2068.97   \n",
       "3                 0        S              NaN                  NaN   \n",
       "4                 0        S              NaN                  NaN   \n",
       "\n",
       "   price_per_sqm_land  \n",
       "0             3518.80  \n",
       "1             3518.80  \n",
       "2             2368.42  \n",
       "3              980.00  \n",
       "4              980.00  "
      ]
     },
     "execution_count": 36,
=======
       "   sale_value postal_code insee_code departement_name department_code  \\\n",
       "0      468000       01550      01158              Ain              01   \n",
       "1      468000       01550      01158              Ain              01   \n",
       "2      180000       01200      01257              Ain              01   \n",
       "3      490000       01310      01065              Ain              01   \n",
       "4      490000       01310      01065              Ain              01   \n",
       "\n",
       "  commune_name commune_code property_type_label property_type_code  \\\n",
       "0       FARGES          158              Maison                  1   \n",
       "1       FARGES          158          Dépendance                  3   \n",
       "2    MONTANGES          257         Appartement                  2   \n",
       "3      BUELLAS          065          Dépendance                  3   \n",
       "4      BUELLAS          065          Dépendance                  3   \n",
       "\n",
       "   built_area_sqm  land_area_sqm  main_rooms_count land_use land_use_special  \\\n",
       "0           111.0          133.0                 5        S              NaN   \n",
       "1             0.0          133.0                 0        S              NaN   \n",
       "2            87.0           76.0                 4        S              NaN   \n",
       "3             0.0          500.0                 0        S              NaN   \n",
       "4             0.0          500.0                 0        S              NaN   \n",
       "\n",
       "   price_per_sqm_built  price_per_sqm_land  \n",
       "0              4216.22             3518.80  \n",
       "1                  NaN             3518.80  \n",
       "2              2068.97             2368.42  \n",
       "3                  NaN              980.00  \n",
       "4                  NaN              980.00  "
      ]
     },
     "execution_count": 32,
>>>>>>> e5415e379797e545f0419c6ffdad9eac2faf19cf
     "metadata": {},
     "output_type": "execute_result"
    }
   ],
   "source": [
    "df.head()"
   ]
  },
  {
   "cell_type": "code",
<<<<<<< HEAD
   "execution_count": 37,
=======
   "execution_count": 33,
>>>>>>> e5415e379797e545f0419c6ffdad9eac2faf19cf
   "id": "6741133f",
   "metadata": {},
   "outputs": [
    {
     "data": {
      "application/vnd.microsoft.datawrangler.viewer.v0+json": {
       "columns": [
        {
         "name": "department_code",
         "rawType": "string",
         "type": "string"
        },
        {
         "name": "price_per_sqm_built",
         "rawType": "float64",
         "type": "float"
        }
       ],
<<<<<<< HEAD
       "ref": "c541fd1b-33d8-4bc0-ada4-b358c53232b2",
=======
       "ref": "0c4c9a0a-e1a2-43e8-ae4a-0489f2aa20dc",
>>>>>>> e5415e379797e545f0419c6ffdad9eac2faf19cf
       "rows": [
        [
         "75",
         "23954.67476190476"
        ],
        [
         "92",
         "9797.476457680252"
        ],
        [
         "94",
         "7390.120167644593"
        ],
        [
         "13",
         "7340.409626719057"
        ],
        [
         "06",
         "6984.150646663217"
        ],
        [
         "74",
         "5481.144940911649"
        ],
        [
         "93",
         "5472.808270202021"
        ],
        [
         "83",
         "5158.614765027322"
        ],
        [
         "2A",
         "4999.425113268609"
        ],
        [
         "91",
         "4840.779392486011"
        ],
        [
         "95",
         "4685.734712482469"
        ],
        [
         "78",
         "4634.865090650551"
        ],
        [
         "21",
         "4447.295965217391"
        ],
        [
         "73",
         "4240.099659511473"
        ],
        [
         "33",
         "4186.9908077519385"
        ],
        [
         "05",
         "4183.9563650306745"
        ],
        [
         "69",
         "4095.9513056468477"
        ],
        [
         "2B",
         "4052.50996835443"
        ],
        [
         "66",
         "3992.1895392857145"
        ],
        [
         "64",
         "3904.8124484052532"
        ],
        [
         "84",
         "3879.5093014059753"
        ],
        [
         "77",
         "3803.766429404901"
        ],
        [
         "04",
         "3757.7373856209147"
        ],
        [
         "34",
         "3741.5793987667007"
        ],
        [
         "44",
         "3634.3826180678034"
        ],
        [
         "17",
         "3625.197535005834"
        ],
        [
         "14",
         "3623.97244794765"
        ],
        [
         "31",
         "3530.3417714437933"
        ],
        [
         "25",
         "3519.065945945946"
        ],
        [
         "40",
         "3509.293229895105"
        ],
        [
         "30",
         "3452.284862686567"
        ],
        [
         "01",
         "3448.8934076015726"
        ],
        [
         "76",
         "3398.839509235784"
        ],
        [
         "38",
         "3374.950679975047"
        ],
        [
         "56",
         "3293.489340387213"
        ],
        [
         "35",
         "3278.2589515219843"
        ],
        [
         "26",
         "3201.5929850088182"
        ],
        [
         "59",
         "3116.5247043397344"
        ],
        [
         "07",
         "3095.6294131736527"
        ],
        [
         "54",
         "3091.4910030983733"
        ],
        [
         "37",
         "2965.3214592933946"
        ],
        [
         "51",
         "2915.1438594470046"
        ],
        [
         "80",
         "2875.183968146391"
        ],
        [
         "85",
         "2870.5194563147875"
        ],
        [
         "49",
         "2857.5045926183843"
        ],
        [
         "42",
         "2805.4507432432433"
        ],
        [
         "87",
         "2782.785870221328"
        ],
        [
         "22",
         "2775.0076241787124"
        ],
        [
         "29",
         "2758.5325939951313"
        ],
        [
         "90",
         "2729.4690256410254"
        ]
       ],
       "shape": {
        "columns": 1,
        "rows": 93
       }
      },
      "text/plain": [
       "department_code\n",
       "75    23954.674762\n",
       "92     9797.476458\n",
       "94     7390.120168\n",
       "13     7340.409627\n",
       "06     6984.150647\n",
       "          ...     \n",
       "08     1593.673399\n",
       "58     1572.885530\n",
       "36     1552.346976\n",
       "52     1353.834354\n",
       "23     1282.831526\n",
       "Name: price_per_sqm_built, Length: 93, dtype: float64"
      ]
     },
<<<<<<< HEAD
     "execution_count": 37,
=======
     "execution_count": 33,
>>>>>>> e5415e379797e545f0419c6ffdad9eac2faf19cf
     "metadata": {},
     "output_type": "execute_result"
    }
   ],
   "source": [
    "df.groupby('department_code')['price_per_sqm_built'].mean().sort_values(ascending=False)"
   ]
  },
  {
   "cell_type": "code",
<<<<<<< HEAD
   "execution_count": null,
   "id": "bc15467d",
   "metadata": {},
   "outputs": [],
   "source": []
=======
   "execution_count": 34,
   "id": "6d0269b5",
   "metadata": {},
   "outputs": [
    {
     "data": {
      "application/vnd.microsoft.datawrangler.viewer.v0+json": {
       "columns": [
        {
         "name": "department_code",
         "rawType": "string",
         "type": "string"
        },
        {
         "name": "price_per_sqm_land",
         "rawType": "float64",
         "type": "float"
        }
       ],
       "ref": "359a60d8-59ae-4c60-86ab-306673424a85",
       "rows": [
        [
         "75",
         "8117.803703703704"
        ],
        [
         "92",
         "3437.394129464286"
        ],
        [
         "2A",
         "2273.0060817307694"
        ],
        [
         "94",
         "2006.4341139571354"
        ],
        [
         "08",
         "1969.7167249904905"
        ],
        [
         "06",
         "1915.1620677419355"
        ],
        [
         "13",
         "1890.4483267973856"
        ],
        [
         "93",
         "1633.5353469387755"
        ],
        [
         "78",
         "1578.8318975"
        ],
        [
         "83",
         "1461.6806267539757"
        ],
        [
         "74",
         "1444.3079504914451"
        ],
        [
         "95",
         "1433.0274501857482"
        ],
        [
         "66",
         "1414.6222796678273"
        ],
        [
         "34",
         "1374.5707388099945"
        ],
        [
         "73",
         "1314.9685365853659"
        ],
        [
         "77",
         "1253.3001555421322"
        ],
        [
         "84",
         "1253.2928658359895"
        ],
        [
         "33",
         "1187.1200777865301"
        ],
        [
         "59",
         "1165.0576842860296"
        ],
        [
         "91",
         "1104.4130677182486"
        ],
        [
         "69",
         "1072.9110762331838"
        ],
        [
         "2B",
         "1063.1855980861244"
        ],
        [
         "04",
         "1053.8524660633484"
        ],
        [
         "44",
         "1018.7562501582479"
        ],
        [
         "31",
         "1016.3927365943856"
        ],
        [
         "76",
         "1014.487459145382"
        ],
        [
         "54",
         "1000.1247669538326"
        ],
        [
         "14",
         "994.4810866372981"
        ],
        [
         "64",
         "988.0689909365559"
        ],
        [
         "17",
         "985.4653001277138"
        ],
        [
         "30",
         "984.2802026105592"
        ],
        [
         "01",
         "975.0079644322846"
        ],
        [
         "05",
         "970.529955506118"
        ],
        [
         "35",
         "957.8711153552331"
        ],
        [
         "26",
         "950.2895246478873"
        ],
        [
         "51",
         "946.0263480990583"
        ],
        [
         "11",
         "921.8924263322883"
        ],
        [
         "38",
         "877.7479021125287"
        ],
        [
         "56",
         "867.8816402284265"
        ],
        [
         "49",
         "842.4991946016543"
        ],
        [
         "37",
         "833.0569592959296"
        ],
        [
         "07",
         "826.5187274220033"
        ],
        [
         "63",
         "790.0815937172774"
        ],
        [
         "85",
         "785.6026762709516"
        ],
        [
         "09",
         "759.2491683778234"
        ],
        [
         "48",
         "752.5566161616161"
        ],
        [
         "42",
         "747.1100046328469"
        ],
        [
         "21",
         "745.2892140528794"
        ],
        [
         "80",
         "743.0764435907804"
        ],
        [
         "81",
         "733.5739609310058"
        ]
       ],
       "shape": {
        "columns": 1,
        "rows": 93
       }
      },
      "text/plain": [
       "department_code\n",
       "75    8117.803704\n",
       "92    3437.394129\n",
       "2A    2273.006082\n",
       "94    2006.434114\n",
       "08    1969.716725\n",
       "         ...     \n",
       "03     432.711212\n",
       "36     426.295724\n",
       "52     415.562214\n",
       "23     384.115025\n",
       "70     336.144282\n",
       "Name: price_per_sqm_land, Length: 93, dtype: float64"
      ]
     },
     "execution_count": 34,
     "metadata": {},
     "output_type": "execute_result"
    }
   ],
   "source": [
    "df.groupby(\"department_code\")[\"price_per_sqm_land\"].mean().sort_values(ascending=False)"
   ]
  },
  {
   "cell_type": "code",
   "execution_count": 35,
   "id": "787c9598",
   "metadata": {},
   "outputs": [
    {
     "data": {
      "application/vnd.microsoft.datawrangler.viewer.v0+json": {
       "columns": [
        {
         "name": "department_code",
         "rawType": "string",
         "type": "string"
        },
        {
         "name": "avg_price_sqm",
         "rawType": "float64",
         "type": "float"
        }
       ],
       "ref": "a4042ef3-caa1-4501-9a89-510c86cefeb1",
       "rows": [
        [
         "75",
         "23954.67476190476"
        ],
        [
         "92",
         "9797.476457680252"
        ],
        [
         "94",
         "7390.120167644593"
        ],
        [
         "13",
         "7340.409626719057"
        ],
        [
         "06",
         "6984.150646663217"
        ],
        [
         "74",
         "5481.144940911649"
        ],
        [
         "93",
         "5472.808270202021"
        ],
        [
         "83",
         "5158.614765027322"
        ],
        [
         "2A",
         "4999.425113268609"
        ],
        [
         "91",
         "4840.779392486011"
        ],
        [
         "95",
         "4685.734712482469"
        ],
        [
         "78",
         "4634.865090650551"
        ],
        [
         "21",
         "4447.295965217391"
        ],
        [
         "73",
         "4240.099659511473"
        ],
        [
         "33",
         "4186.9908077519385"
        ],
        [
         "05",
         "4183.9563650306745"
        ],
        [
         "69",
         "4095.9513056468477"
        ],
        [
         "2B",
         "4052.50996835443"
        ],
        [
         "66",
         "3992.1895392857145"
        ],
        [
         "64",
         "3904.8124484052532"
        ],
        [
         "84",
         "3879.5093014059753"
        ],
        [
         "77",
         "3803.766429404901"
        ],
        [
         "04",
         "3757.7373856209147"
        ],
        [
         "34",
         "3741.5793987667007"
        ],
        [
         "44",
         "3634.3826180678034"
        ],
        [
         "17",
         "3625.197535005834"
        ],
        [
         "14",
         "3623.97244794765"
        ],
        [
         "31",
         "3530.3417714437933"
        ],
        [
         "25",
         "3519.065945945946"
        ],
        [
         "40",
         "3509.293229895105"
        ],
        [
         "30",
         "3452.284862686567"
        ],
        [
         "01",
         "3448.8934076015726"
        ],
        [
         "76",
         "3398.839509235784"
        ],
        [
         "38",
         "3374.950679975047"
        ],
        [
         "56",
         "3293.489340387213"
        ],
        [
         "35",
         "3278.2589515219843"
        ],
        [
         "26",
         "3201.5929850088182"
        ],
        [
         "59",
         "3116.5247043397344"
        ],
        [
         "07",
         "3095.6294131736527"
        ],
        [
         "54",
         "3091.4910030983733"
        ],
        [
         "37",
         "2965.3214592933946"
        ],
        [
         "51",
         "2915.1438594470046"
        ],
        [
         "80",
         "2875.183968146391"
        ],
        [
         "85",
         "2870.5194563147875"
        ],
        [
         "49",
         "2857.5045926183843"
        ],
        [
         "42",
         "2805.4507432432433"
        ],
        [
         "87",
         "2782.785870221328"
        ],
        [
         "22",
         "2775.0076241787124"
        ],
        [
         "29",
         "2758.5325939951313"
        ],
        [
         "90",
         "2729.4690256410254"
        ]
       ],
       "shape": {
        "columns": 1,
        "rows": 93
       }
      },
      "text/html": [
       "<div>\n",
       "<style scoped>\n",
       "    .dataframe tbody tr th:only-of-type {\n",
       "        vertical-align: middle;\n",
       "    }\n",
       "\n",
       "    .dataframe tbody tr th {\n",
       "        vertical-align: top;\n",
       "    }\n",
       "\n",
       "    .dataframe thead th {\n",
       "        text-align: right;\n",
       "    }\n",
       "</style>\n",
       "<table border=\"1\" class=\"dataframe\">\n",
       "  <thead>\n",
       "    <tr style=\"text-align: right;\">\n",
       "      <th></th>\n",
       "      <th>avg_price_sqm</th>\n",
       "    </tr>\n",
       "    <tr>\n",
       "      <th>department_code</th>\n",
       "      <th></th>\n",
       "    </tr>\n",
       "  </thead>\n",
       "  <tbody>\n",
       "    <tr>\n",
       "      <th>75</th>\n",
       "      <td>23954.674762</td>\n",
       "    </tr>\n",
       "    <tr>\n",
       "      <th>92</th>\n",
       "      <td>9797.476458</td>\n",
       "    </tr>\n",
       "    <tr>\n",
       "      <th>94</th>\n",
       "      <td>7390.120168</td>\n",
       "    </tr>\n",
       "    <tr>\n",
       "      <th>13</th>\n",
       "      <td>7340.409627</td>\n",
       "    </tr>\n",
       "    <tr>\n",
       "      <th>06</th>\n",
       "      <td>6984.150647</td>\n",
       "    </tr>\n",
       "    <tr>\n",
       "      <th>...</th>\n",
       "      <td>...</td>\n",
       "    </tr>\n",
       "    <tr>\n",
       "      <th>08</th>\n",
       "      <td>1593.673399</td>\n",
       "    </tr>\n",
       "    <tr>\n",
       "      <th>58</th>\n",
       "      <td>1572.885530</td>\n",
       "    </tr>\n",
       "    <tr>\n",
       "      <th>36</th>\n",
       "      <td>1552.346976</td>\n",
       "    </tr>\n",
       "    <tr>\n",
       "      <th>52</th>\n",
       "      <td>1353.834354</td>\n",
       "    </tr>\n",
       "    <tr>\n",
       "      <th>23</th>\n",
       "      <td>1282.831526</td>\n",
       "    </tr>\n",
       "  </tbody>\n",
       "</table>\n",
       "<p>93 rows × 1 columns</p>\n",
       "</div>"
      ],
      "text/plain": [
       "                 avg_price_sqm\n",
       "department_code               \n",
       "75                23954.674762\n",
       "92                 9797.476458\n",
       "94                 7390.120168\n",
       "13                 7340.409627\n",
       "06                 6984.150647\n",
       "...                        ...\n",
       "08                 1593.673399\n",
       "58                 1572.885530\n",
       "36                 1552.346976\n",
       "52                 1353.834354\n",
       "23                 1282.831526\n",
       "\n",
       "[93 rows x 1 columns]"
      ]
     },
     "execution_count": 35,
     "metadata": {},
     "output_type": "execute_result"
    }
   ],
   "source": [
    "df.groupby('department_code').agg(avg_price_sqm=(\"price_per_sqm_built\", \"mean\")).sort_values(by=\"avg_price_sqm\", ascending=False)   "
   ]
>>>>>>> e5415e379797e545f0419c6ffdad9eac2faf19cf
  }
 ],
 "metadata": {
  "kernelspec": {
   "display_name": "base",
   "language": "python",
   "name": "python3"
  },
  "language_info": {
   "codemirror_mode": {
    "name": "ipython",
    "version": 3
   },
   "file_extension": ".py",
   "mimetype": "text/x-python",
   "name": "python",
   "nbconvert_exporter": "python",
   "pygments_lexer": "ipython3",
   "version": "3.12.2"
  }
 },
 "nbformat": 4,
 "nbformat_minor": 5
}
